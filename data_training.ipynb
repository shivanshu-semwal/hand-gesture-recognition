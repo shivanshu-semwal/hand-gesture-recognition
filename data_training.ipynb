{
 "cells": [
  {
   "cell_type": "markdown",
   "id": "4444069d-d699-4326-bc9c-a7d1b56b532b",
   "metadata": {},
   "source": [
    "# Data Training"
   ]
  },
  {
   "cell_type": "markdown",
   "id": "78f91d75-3dc2-43d8-81ef-b5181cbe1118",
   "metadata": {},
   "source": [
    "### Importing Libraries"
   ]
  },
  {
   "cell_type": "code",
   "execution_count": 1,
   "id": "a5edd652-0677-4c83-8e37-23bb33876578",
   "metadata": {},
   "outputs": [],
   "source": [
    "import tensorflow as tf\n",
    "from tensorflow.keras import layers, models\n",
    "import numpy as np\n",
    "import cv2\n",
    "from sklearn.utils import shuffle\n",
    "import matplotlib.pyplot as plt\n",
    "import os"
   ]
  },
  {
   "cell_type": "markdown",
   "id": "37dc0b40-7416-4902-a6c1-591ae7df4800",
   "metadata": {},
   "source": [
    "## Gestures List"
   ]
  },
  {
   "cell_type": "code",
   "execution_count": 2,
   "id": "a29f4822-300c-4c55-a7d6-fbe7b01b5ed5",
   "metadata": {},
   "outputs": [],
   "source": [
    "gestures = ['fist', 'palm', 'swing']\n",
    "test_data_dir = 'data/test'\n",
    "train_data_dir = 'data/train'"
   ]
  },
  {
   "cell_type": "code",
   "execution_count": 3,
   "id": "88eb355f-46b6-4bb7-8dd5-a827ea25b98a",
   "metadata": {},
   "outputs": [],
   "source": [
    "train_Images = []\n",
    "no_train_images = 1000\n",
    "\n",
    "for gesture in gestures:\n",
    "    for i in range(0, no_train_images):\n",
    "        # print(train_data_dir + '/' + gesture + '/' + gesture + '_' + str(i) + '.png')\n",
    "        image = cv2.imread(train_data_dir + '/' + gesture + '/' + gesture + '_' + str(i) + '.png')\n",
    "        gray_image = cv2.cvtColor(image, cv2.COLOR_BGR2GRAY)\n",
    "        train_Images.append(gray_image.reshape(89, 100, 1))"
   ]
  },
  {
   "cell_type": "code",
   "execution_count": 4,
   "id": "a947294d-6cb5-4ba4-a0e2-bee98f12ca3a",
   "metadata": {},
   "outputs": [],
   "source": [
    "train_Labels = []\n",
    "no_train_images = 1000\n",
    "\n",
    "for i in range(0, len(gestures)):\n",
    "    vect = [0] * len(gestures)\n",
    "    vect[i] = 1\n",
    "    for j in range(0, no_train_images):\n",
    "        train_Labels.append(vect)"
   ]
  },
  {
   "cell_type": "code",
   "execution_count": 5,
   "id": "997c3f2f-18bb-4491-959f-9f2832b7c0df",
   "metadata": {},
   "outputs": [],
   "source": [
    "test_Images = []\n",
    "no_test_images = 100\n",
    "\n",
    "for gesture in gestures:\n",
    "    for i in range(0, no_test_images):\n",
    "        # print(train_data_dir + '/' + gesture + '/' + gesture + '_' + str(i) + '.png')\n",
    "        image = cv2.imread(train_data_dir + '/' + gesture + '/' + gesture + '_' + str(i) + '.png')\n",
    "        gray_image = cv2.cvtColor(image, cv2.COLOR_BGR2GRAY)\n",
    "        test_Images.append(gray_image.reshape(89, 100, 1))"
   ]
  },
  {
   "cell_type": "code",
   "execution_count": 6,
   "id": "5732e974-11ee-4d8f-8ceb-bd613d4cac5e",
   "metadata": {},
   "outputs": [],
   "source": [
    "test_Labels = []\n",
    "no_test_images = 100\n",
    "\n",
    "for i in range(0, len(gestures)):\n",
    "    vect = [0] * len(gestures)\n",
    "    vect[i] = 1\n",
    "    for j in range(0, no_test_images):\n",
    "        test_Labels.append(vect)"
   ]
  },
  {
   "cell_type": "code",
   "execution_count": 7,
   "id": "a9a615f2-04b6-4348-bc2c-ca117a54cdb9",
   "metadata": {},
   "outputs": [
    {
     "name": "stdout",
     "output_type": "stream",
     "text": [
      "Training Images: 3000\n",
      "Training Labels: 3000\n",
      "Testing Images: 300\n",
      "Testing Labels: 300\n"
     ]
    }
   ],
   "source": [
    "print(\"Training Images: \" + str(len(train_Images)))\n",
    "print(\"Training Labels: \" + str(len(train_Labels)))\n",
    "print(\"Testing Images: \" + str(len(test_Images)))\n",
    "print(\"Testing Labels: \" + str(len(test_Labels)))"
   ]
  },
  {
   "cell_type": "markdown",
   "id": "71c6993c-a4eb-4355-a117-997485f733d6",
   "metadata": {},
   "source": [
    "#### (BUG) GPU memory overflow\n",
    "> this is a workaround"
   ]
  },
  {
   "cell_type": "code",
   "execution_count": 8,
   "id": "08518827-9a77-4698-846e-fd6319f9b032",
   "metadata": {},
   "outputs": [],
   "source": [
    "#\n",
    "\n",
    "method1 = False\n",
    "\n",
    "if method1:\n",
    "    import os\n",
    "    os.environ['TF_FORCE_GPU_ALLOW_GROWTH'] = 'true'\n",
    "    tf.compat.v1.reset_default_graph()\n",
    "    gpu_options.allow_growth = True\n",
    "    os.environ['CUDA_VISIBLE_DEVICES'] = '-1'\n",
    "\n",
    "#\n",
    "\n",
    "method2 = False\n",
    "\n",
    "if method2:\n",
    "    config = tf.compat.v1.ConfigProto()\n",
    "    config.gpu_options.per_process_gpu_memory_fraction = 0.7\n",
    "    tf.compat.v1.keras.backend.set_session(\n",
    "        tf.compat.v1.Session(config=config))\n",
    "\n",
    "# \n",
    "\n",
    "method3 = False\n",
    "\n",
    "if method3:\n",
    "    physical_devices = tf.config.list_physical_devices('GPU')\n",
    "    for device in physical_devices:\n",
    "        tf.config.experimental.set_memory_growth(device, True)"
   ]
  },
  {
   "cell_type": "markdown",
   "id": "612d792a-5c59-4c98-aaf2-82e54a7ba90d",
   "metadata": {},
   "source": [
    "### Transforming the input data"
   ]
  },
  {
   "cell_type": "code",
   "execution_count": 9,
   "id": "00c713e2-24c5-45cd-8dee-713c68d229a2",
   "metadata": {},
   "outputs": [],
   "source": [
    "train_Images = np.array(train_Images)\n",
    "train_Labels = np.array(train_Labels)\n",
    "test_Images = np.array(test_Images)\n",
    "test_Labels = np.array(test_Labels)"
   ]
  },
  {
   "cell_type": "markdown",
   "id": "e3562b4b-3563-4d5d-b780-273602712542",
   "metadata": {},
   "source": [
    "## Making CNN Model"
   ]
  },
  {
   "cell_type": "code",
   "execution_count": 10,
   "id": "a4fbfac3-8905-418a-af32-68e0f775b882",
   "metadata": {},
   "outputs": [
    {
     "name": "stderr",
     "output_type": "stream",
     "text": [
      "2021-12-16 08:52:26.253760: I tensorflow/stream_executor/cuda/cuda_gpu_executor.cc:937] successful NUMA node read from SysFS had negative value (-1), but there must be at least one NUMA node, so returning NUMA node zero\n",
      "2021-12-16 08:52:26.297785: I tensorflow/stream_executor/cuda/cuda_gpu_executor.cc:937] successful NUMA node read from SysFS had negative value (-1), but there must be at least one NUMA node, so returning NUMA node zero\n",
      "2021-12-16 08:52:26.298063: I tensorflow/stream_executor/cuda/cuda_gpu_executor.cc:937] successful NUMA node read from SysFS had negative value (-1), but there must be at least one NUMA node, so returning NUMA node zero\n",
      "2021-12-16 08:52:26.299120: I tensorflow/core/platform/cpu_feature_guard.cc:142] This TensorFlow binary is optimized with oneAPI Deep Neural Network Library (oneDNN) to use the following CPU instructions in performance-critical operations:  SSE4.1 SSE4.2 AVX AVX2 FMA\n",
      "To enable them in other operations, rebuild TensorFlow with the appropriate compiler flags.\n",
      "2021-12-16 08:52:26.299733: I tensorflow/stream_executor/cuda/cuda_gpu_executor.cc:937] successful NUMA node read from SysFS had negative value (-1), but there must be at least one NUMA node, so returning NUMA node zero\n",
      "2021-12-16 08:52:26.299987: I tensorflow/stream_executor/cuda/cuda_gpu_executor.cc:937] successful NUMA node read from SysFS had negative value (-1), but there must be at least one NUMA node, so returning NUMA node zero\n",
      "2021-12-16 08:52:26.300208: I tensorflow/stream_executor/cuda/cuda_gpu_executor.cc:937] successful NUMA node read from SysFS had negative value (-1), but there must be at least one NUMA node, so returning NUMA node zero\n",
      "2021-12-16 08:52:26.976070: I tensorflow/stream_executor/cuda/cuda_gpu_executor.cc:937] successful NUMA node read from SysFS had negative value (-1), but there must be at least one NUMA node, so returning NUMA node zero\n",
      "2021-12-16 08:52:26.976356: I tensorflow/stream_executor/cuda/cuda_gpu_executor.cc:937] successful NUMA node read from SysFS had negative value (-1), but there must be at least one NUMA node, so returning NUMA node zero\n",
      "2021-12-16 08:52:26.976575: I tensorflow/stream_executor/cuda/cuda_gpu_executor.cc:937] successful NUMA node read from SysFS had negative value (-1), but there must be at least one NUMA node, so returning NUMA node zero\n",
      "2021-12-16 08:52:26.976740: I tensorflow/core/common_runtime/gpu/gpu_device.cc:1510] Created device /job:localhost/replica:0/task:0/device:GPU:0 with 2209 MB memory:  -> device: 0, name: NVIDIA GeForce GTX 1650, pci bus id: 0000:01:00.0, compute capability: 7.5\n"
     ]
    }
   ],
   "source": [
    "tf.compat.v1.reset_default_graph()\n",
    "model = models.Sequential([\n",
    "    #cnn layers\n",
    "    layers.Conv2D(filters = 32, activation='relu', kernel_size = (2,2), input_shape = (89,100,1)),\n",
    "    layers.MaxPooling2D((2,2)),\n",
    "    layers.Conv2D(filters = 64, activation='relu', kernel_size = (2,2)),\n",
    "    layers.MaxPooling2D((2,2)),\n",
    "    layers.Conv2D(filters = 128, activation='relu', kernel_size = (2,2)),\n",
    "    layers.MaxPooling2D((2,2)),\n",
    "    layers.Conv2D(filters = 256, activation='relu', kernel_size = (2,2)),\n",
    "    layers.MaxPooling2D((2,2)),\n",
    "    #dense\n",
    "    layers.Flatten(),\n",
    "    layers.Dense(1000, activation = 'relu'),\n",
    "    layers.Dropout((0.40)),\n",
    "    layers.Dense(500, activation = 'relu'),\n",
    "    layers.Dropout((0.40)),\n",
    "    # layers.Dense(64, activation = 'relu'),\n",
    "    layers.Dense(3, activation = 'softmax')\n",
    "])"
   ]
  },
  {
   "cell_type": "code",
   "execution_count": null,
   "id": "24a4a4db",
   "metadata": {},
   "outputs": [],
   "source": [
    "model.summary()"
   ]
  },
  {
   "cell_type": "markdown",
   "id": "1ca4444b-bcfb-4327-ab89-c2ad41e1cd4c",
   "metadata": {},
   "source": [
    "### Training"
   ]
  },
  {
   "cell_type": "code",
   "execution_count": 11,
   "id": "b9559f9f-1b7d-4068-88e3-f90d5608421e",
   "metadata": {},
   "outputs": [],
   "source": [
    "model.compile(optimizer = 'adam', loss = 'categorical_crossentropy', metrics = ['accuracy'])"
   ]
  },
  {
   "cell_type": "code",
   "execution_count": 12,
   "id": "75086188-9b63-4c10-bbbf-34a328c1ddcd",
   "metadata": {},
   "outputs": [],
   "source": [
    "# Shuffle Training Data\n",
    "train_Images, train_Labels = shuffle(train_Images, train_Labels, random_state=0)"
   ]
  },
  {
   "cell_type": "code",
   "execution_count": 13,
   "id": "6d16320c-8aa8-44da-8959-7def1cb6f450",
   "metadata": {},
   "outputs": [
    {
     "name": "stderr",
     "output_type": "stream",
     "text": [
      "2021-12-16 08:52:31.810960: I tensorflow/compiler/mlir/mlir_graph_optimization_pass.cc:185] None of the MLIR Optimization Passes are enabled (registered 2)\n"
     ]
    },
    {
     "name": "stdout",
     "output_type": "stream",
     "text": [
      "Epoch 1/50\n"
     ]
    },
    {
     "name": "stderr",
     "output_type": "stream",
     "text": [
      "2021-12-16 08:52:33.363093: I tensorflow/stream_executor/cuda/cuda_dnn.cc:369] Loaded cuDNN version 8201\n",
      "2021-12-16 08:52:34.453498: I tensorflow/core/platform/default/subprocess.cc:304] Start cannot spawn child process: No such file or directory\n"
     ]
    },
    {
     "name": "stdout",
     "output_type": "stream",
     "text": [
      "94/94 [==============================] - 7s 25ms/step - loss: 0.6420 - accuracy: 0.9550 - val_loss: 3.0132e-05 - val_accuracy: 1.0000\n",
      "Epoch 2/50\n",
      "94/94 [==============================] - 2s 18ms/step - loss: 9.8716e-04 - accuracy: 0.9997 - val_loss: 1.0812e-05 - val_accuracy: 1.0000\n",
      "Epoch 3/50\n",
      "94/94 [==============================] - 2s 18ms/step - loss: 4.6435e-05 - accuracy: 1.0000 - val_loss: 1.4872e-06 - val_accuracy: 1.0000\n",
      "Epoch 4/50\n",
      "94/94 [==============================] - 2s 19ms/step - loss: 1.1866e-05 - accuracy: 1.0000 - val_loss: 4.3738e-07 - val_accuracy: 1.0000\n",
      "Epoch 5/50\n",
      "94/94 [==============================] - 2s 19ms/step - loss: 1.4292e-05 - accuracy: 1.0000 - val_loss: 1.4921e-07 - val_accuracy: 1.0000\n",
      "Epoch 6/50\n",
      "94/94 [==============================] - 2s 18ms/step - loss: 1.1440e-06 - accuracy: 1.0000 - val_loss: 6.1453e-08 - val_accuracy: 1.0000\n",
      "Epoch 7/50\n",
      "94/94 [==============================] - 2s 18ms/step - loss: 2.6676e-06 - accuracy: 1.0000 - val_loss: 2.8156e-08 - val_accuracy: 1.0000\n",
      "Epoch 8/50\n",
      "94/94 [==============================] - 2s 18ms/step - loss: 1.3798e-06 - accuracy: 1.0000 - val_loss: 1.6181e-08 - val_accuracy: 1.0000\n",
      "Epoch 9/50\n",
      "94/94 [==============================] - 2s 18ms/step - loss: 1.4270e-06 - accuracy: 1.0000 - val_loss: 1.2402e-08 - val_accuracy: 1.0000\n",
      "Epoch 10/50\n",
      "94/94 [==============================] - 2s 18ms/step - loss: 2.3066e-06 - accuracy: 1.0000 - val_loss: 5.4079e-09 - val_accuracy: 1.0000\n",
      "Epoch 11/50\n",
      "94/94 [==============================] - 2s 18ms/step - loss: 5.8788e-07 - accuracy: 1.0000 - val_loss: 3.7979e-09 - val_accuracy: 1.0000\n",
      "Epoch 12/50\n",
      "94/94 [==============================] - 2s 18ms/step - loss: 1.6966e-06 - accuracy: 1.0000 - val_loss: 4.7987e-09 - val_accuracy: 1.0000\n",
      "Epoch 13/50\n",
      "94/94 [==============================] - 2s 18ms/step - loss: 1.7354e-06 - accuracy: 1.0000 - val_loss: 5.1157e-09 - val_accuracy: 1.0000\n",
      "Epoch 14/50\n",
      "94/94 [==============================] - 2s 18ms/step - loss: 1.7726e-06 - accuracy: 1.0000 - val_loss: 2.6031e-09 - val_accuracy: 1.0000\n",
      "Epoch 15/50\n",
      "94/94 [==============================] - 2s 19ms/step - loss: 1.4843e-07 - accuracy: 1.0000 - val_loss: 1.5880e-09 - val_accuracy: 1.0000\n",
      "Epoch 16/50\n",
      "94/94 [==============================] - 2s 19ms/step - loss: 1.7158e-07 - accuracy: 1.0000 - val_loss: 1.2816e-09 - val_accuracy: 1.0000\n",
      "Epoch 17/50\n",
      "94/94 [==============================] - 2s 19ms/step - loss: 1.9794e-07 - accuracy: 1.0000 - val_loss: 1.0171e-09 - val_accuracy: 1.0000\n",
      "Epoch 18/50\n",
      "94/94 [==============================] - 2s 19ms/step - loss: 3.8604e-06 - accuracy: 1.0000 - val_loss: 6.4405e-10 - val_accuracy: 1.0000\n",
      "Epoch 19/50\n",
      "94/94 [==============================] - 2s 18ms/step - loss: 1.6832e-06 - accuracy: 1.0000 - val_loss: 3.6484e-09 - val_accuracy: 1.0000\n",
      "Epoch 20/50\n",
      "94/94 [==============================] - 2s 18ms/step - loss: 1.6718e-07 - accuracy: 1.0000 - val_loss: 2.9305e-09 - val_accuracy: 1.0000\n",
      "Epoch 21/50\n",
      "94/94 [==============================] - 2s 19ms/step - loss: 1.0183e-07 - accuracy: 1.0000 - val_loss: 2.2369e-09 - val_accuracy: 1.0000\n",
      "Epoch 22/50\n",
      "94/94 [==============================] - 2s 19ms/step - loss: 2.2634e-07 - accuracy: 1.0000 - val_loss: 1.2198e-09 - val_accuracy: 1.0000\n",
      "Epoch 23/50\n",
      "94/94 [==============================] - 2s 19ms/step - loss: 2.3404e-07 - accuracy: 1.0000 - val_loss: 7.9519e-10 - val_accuracy: 1.0000\n",
      "Epoch 24/50\n",
      "94/94 [==============================] - 2s 19ms/step - loss: 1.4765e-07 - accuracy: 1.0000 - val_loss: 4.5813e-10 - val_accuracy: 1.0000\n",
      "Epoch 25/50\n",
      "94/94 [==============================] - 2s 19ms/step - loss: 1.4406e-07 - accuracy: 1.0000 - val_loss: 2.2757e-10 - val_accuracy: 1.0000\n",
      "Epoch 26/50\n",
      "94/94 [==============================] - 2s 19ms/step - loss: 5.8324e-08 - accuracy: 1.0000 - val_loss: 2.0366e-10 - val_accuracy: 1.0000\n",
      "Epoch 27/50\n",
      "94/94 [==============================] - 2s 20ms/step - loss: 4.7867e-08 - accuracy: 1.0000 - val_loss: 1.9220e-10 - val_accuracy: 1.0000\n",
      "Epoch 28/50\n",
      "94/94 [==============================] - 2s 20ms/step - loss: 8.0514e-08 - accuracy: 1.0000 - val_loss: 1.6846e-10 - val_accuracy: 1.0000\n",
      "Epoch 29/50\n",
      "94/94 [==============================] - 2s 20ms/step - loss: 1.9705e-07 - accuracy: 1.0000 - val_loss: 5.5278e-11 - val_accuracy: 1.0000\n",
      "Epoch 30/50\n",
      "94/94 [==============================] - 2s 19ms/step - loss: 2.6230e-07 - accuracy: 1.0000 - val_loss: 5.2801e-11 - val_accuracy: 1.0000\n",
      "Epoch 31/50\n",
      "94/94 [==============================] - 2s 19ms/step - loss: 5.4728e-08 - accuracy: 1.0000 - val_loss: 4.8309e-11 - val_accuracy: 1.0000\n",
      "Epoch 32/50\n",
      "94/94 [==============================] - 2s 19ms/step - loss: 3.6184e-07 - accuracy: 1.0000 - val_loss: 3.2715e-11 - val_accuracy: 1.0000\n",
      "Epoch 33/50\n",
      "94/94 [==============================] - 2s 19ms/step - loss: 6.1119e-08 - accuracy: 1.0000 - val_loss: 3.0865e-11 - val_accuracy: 1.0000\n",
      "Epoch 34/50\n",
      "94/94 [==============================] - 2s 19ms/step - loss: 4.2968e-08 - accuracy: 1.0000 - val_loss: 3.0452e-11 - val_accuracy: 1.0000\n",
      "Epoch 35/50\n",
      "94/94 [==============================] - 2s 19ms/step - loss: 5.4543e-08 - accuracy: 1.0000 - val_loss: 2.8369e-11 - val_accuracy: 1.0000\n",
      "Epoch 36/50\n",
      "94/94 [==============================] - 2s 19ms/step - loss: 1.3537e-07 - accuracy: 1.0000 - val_loss: 2.0956e-11 - val_accuracy: 1.0000\n",
      "Epoch 37/50\n",
      "94/94 [==============================] - 2s 19ms/step - loss: 1.6297e-07 - accuracy: 1.0000 - val_loss: 2.3754e-11 - val_accuracy: 1.0000\n",
      "Epoch 38/50\n",
      "94/94 [==============================] - 2s 19ms/step - loss: 1.3651e-08 - accuracy: 1.0000 - val_loss: 2.5196e-11 - val_accuracy: 1.0000\n",
      "Epoch 39/50\n",
      "94/94 [==============================] - 2s 19ms/step - loss: 1.3438e-08 - accuracy: 1.0000 - val_loss: 2.4502e-11 - val_accuracy: 1.0000\n",
      "Epoch 40/50\n",
      "94/94 [==============================] - 2s 19ms/step - loss: 2.5556e-08 - accuracy: 1.0000 - val_loss: 2.1617e-11 - val_accuracy: 1.0000\n",
      "Epoch 41/50\n",
      "94/94 [==============================] - 2s 19ms/step - loss: 3.0779e-08 - accuracy: 1.0000 - val_loss: 1.8917e-11 - val_accuracy: 1.0000\n",
      "Epoch 42/50\n",
      "94/94 [==============================] - 2s 19ms/step - loss: 2.5404e-08 - accuracy: 1.0000 - val_loss: 1.1587e-11 - val_accuracy: 1.0000\n",
      "Epoch 43/50\n",
      "94/94 [==============================] - 2s 18ms/step - loss: 8.9331e-09 - accuracy: 1.0000 - val_loss: 1.1430e-11 - val_accuracy: 1.0000\n",
      "Epoch 44/50\n",
      "94/94 [==============================] - 2s 19ms/step - loss: 2.5606e-08 - accuracy: 1.0000 - val_loss: 1.0996e-11 - val_accuracy: 1.0000\n",
      "Epoch 45/50\n",
      "94/94 [==============================] - 2s 19ms/step - loss: 8.5989e-09 - accuracy: 1.0000 - val_loss: 1.0095e-11 - val_accuracy: 1.0000\n",
      "Epoch 46/50\n",
      "94/94 [==============================] - 2s 19ms/step - loss: 2.6769e-07 - accuracy: 1.0000 - val_loss: 1.1858e-11 - val_accuracy: 1.0000\n",
      "Epoch 47/50\n",
      "94/94 [==============================] - 2s 19ms/step - loss: 8.0775e-09 - accuracy: 1.0000 - val_loss: 1.7732e-11 - val_accuracy: 1.0000\n",
      "Epoch 48/50\n",
      "94/94 [==============================] - 2s 19ms/step - loss: 1.5954e-08 - accuracy: 1.0000 - val_loss: 1.4832e-11 - val_accuracy: 1.0000\n",
      "Epoch 49/50\n",
      "94/94 [==============================] - 2s 19ms/step - loss: 7.9553e-09 - accuracy: 1.0000 - val_loss: 1.3576e-11 - val_accuracy: 1.0000\n",
      "Epoch 50/50\n",
      "94/94 [==============================] - 2s 19ms/step - loss: 1.5809e-07 - accuracy: 1.0000 - val_loss: 1.1882e-11 - val_accuracy: 1.0000\n"
     ]
    }
   ],
   "source": [
    "history = model.fit(train_Images, train_Labels, epochs=50, validation_data = (test_Images, test_Labels))"
   ]
  },
  {
   "cell_type": "markdown",
   "id": "f932a6d0-85cc-4ccc-9c51-9ae0d4b86f01",
   "metadata": {},
   "source": [
    "### Saving Model"
   ]
  },
  {
   "cell_type": "code",
   "execution_count": 14,
   "id": "7beba01b-14a6-436e-b45a-be4a7015cdfd",
   "metadata": {},
   "outputs": [
    {
     "name": "stderr",
     "output_type": "stream",
     "text": [
      "2021-12-16 08:54:17.077710: W tensorflow/python/util/util.cc:348] Sets are not currently considered sequences, but this may change in the future, so consider avoiding using them.\n"
     ]
    },
    {
     "name": "stdout",
     "output_type": "stream",
     "text": [
      "INFO:tensorflow:Assets written to: ./TrainedModel/assets\n"
     ]
    }
   ],
   "source": [
    "if not os.path.isdir('TrainedModel'):\n",
    "    os.mkdir('TrainedModel')\n",
    "model.save('./TrainedModel/')"
   ]
  },
  {
   "cell_type": "markdown",
   "id": "58b00658-f4f6-4f98-aadd-a6fbf722ba03",
   "metadata": {},
   "source": [
    "## Model Sumary"
   ]
  },
  {
   "cell_type": "code",
   "execution_count": 15,
   "id": "89baf1af-2f2d-4b8a-8558-bf311364a3e7",
   "metadata": {},
   "outputs": [
    {
     "data": {
      "image/png": "[encoded data removed]",
      "text/plain": [
       "<Figure size 864x360 with 1 Axes>"
      ]
     },
     "metadata": {
      "needs_background": "light"
     },
     "output_type": "display_data"
    }
   ],
   "source": [
    "plt.figure(figsize = (12, 5))\n",
    "plt.plot(history.history['loss'])\n",
    "plt.plot(history.history['val_loss'])\n",
    "plt.title('Model Loss')\n",
    "plt.ylabel('Loss')\n",
    "plt.xlabel('Epoch')\n",
    "plt.legend(['Test', 'Validation'], loc='upper right')\n",
    "plt.show()"
   ]
  },
  {
   "cell_type": "code",
   "execution_count": null,
   "id": "8625372e",
   "metadata": {},
   "outputs": [],
   "source": [
    "plt.plot(history.history['accuracy'], label='accuracy')\n",
    "plt.plot(history.history['val_accuracy'], label = 'val_accuracy')\n",
    "plt.xlabel('Epoch')\n",
    "plt.ylabel('Accuracy')\n",
    "plt.ylim([0.5, 1.1])\n",
    "plt.legend(loc='lower right')"
   ]
  },
  {
   "cell_type": "code",
   "execution_count": null,
   "id": "0cdc536b",
   "metadata": {},
   "outputs": [],
   "source": [
    "test_loss, test_acc = model.evaluate(test_Images,  test_Labels, verbose=2)"
   ]
  }
 ],
 "metadata": {
  "kernelspec": {
   "display_name": "Python [conda env:shiv]",
   "language": "python",
   "name": "conda-env-shiv-py"
  },
  "language_info": {
   "codemirror_mode": {
    "name": "ipython",
    "version": 3
   },
   "file_extension": ".py",
   "mimetype": "text/x-python",
   "name": "python",
   "nbconvert_exporter": "python",
   "pygments_lexer": "ipython3",
   "version": "3.7.12"
  }
 },
 "nbformat": 4,
 "nbformat_minor": 5
}
