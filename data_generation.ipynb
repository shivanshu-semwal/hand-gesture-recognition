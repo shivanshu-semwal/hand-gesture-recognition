{
 "cells": [
  {
   "cell_type": "markdown",
   "id": "458924f5-c0a3-42e8-849d-768f78c3d162",
   "metadata": {},
   "source": [
    "# Data Generation\n"
   ]
  },
  {
   "cell_type": "markdown",
   "id": "9855100f-7cc5-447a-bdb3-0b0b9beac03a",
   "metadata": {},
   "source": [
    "## Importing Libraries"
   ]
  },
  {
   "cell_type": "code",
   "execution_count": 47,
   "id": "aeb4ca62-e877-4270-aa80-471b8a5011b3",
   "metadata": {},
   "outputs": [],
   "source": [
    "import cv2\n",
    "import imutils\n",
    "import os"
   ]
  },
  {
   "cell_type": "markdown",
   "id": "ba355fee-46dd-45e5-8f8e-b09e07285ad2",
   "metadata": {},
   "source": [
    "### Defining Global Variables"
   ]
  },
  {
   "cell_type": "code",
   "execution_count": 2,
   "id": "ec9de647-44aa-4984-8953-fd407bfbcb06",
   "metadata": {},
   "outputs": [],
   "source": [
    "bg = None"
   ]
  },
  {
   "cell_type": "markdown",
   "id": "2be44c9f-f20f-48ed-a129-5e1ca0002b82",
   "metadata": {},
   "source": [
    "## Running Average Function"
   ]
  },
  {
   "cell_type": "code",
   "execution_count": 3,
   "id": "6c02f128-6984-446b-bc30-f8b0dc9e6070",
   "metadata": {},
   "outputs": [],
   "source": [
    "def run_avg(image, aWeight):\n",
    "    global bg\n",
    "    # initialize the background\n",
    "    if bg is None:\n",
    "        bg = image.copy().astype(\"float\")\n",
    "        return\n",
    "\n",
    "    # compute weighted average, accumulate it and update the background\n",
    "    cv2.accumulateWeighted(image, bg, aWeight)"
   ]
  },
  {
   "cell_type": "markdown",
   "id": "0805bcf7-573c-4007-b489-7db45a760ddf",
   "metadata": {},
   "source": [
    "## Segementaion Method"
   ]
  },
  {
   "cell_type": "code",
   "execution_count": 4,
   "id": "9b4e600f-6f75-4968-a179-de9f00c4c4ac",
   "metadata": {},
   "outputs": [],
   "source": [
    "def segment(image, threshold=25):\n",
    "    global bg\n",
    "    # find the absolute difference between background and current frame\n",
    "    diff = cv2.absdiff(bg.astype(\"uint8\"), image)\n",
    "\n",
    "    # threshold the diff image so that we get the foreground\n",
    "    thresholded = cv2.threshold(diff,\n",
    "                                threshold,\n",
    "                                255,\n",
    "                                cv2.THRESH_BINARY)[1]\n",
    "\n",
    "    # get the contours in the thresholded image\n",
    "    (cnts, _) = cv2.findContours(thresholded.copy(),\n",
    "                                 cv2.RETR_EXTERNAL,\n",
    "                                 cv2.CHAIN_APPROX_SIMPLE)\n",
    "\n",
    "    # return None, if no contours detected\n",
    "    if len(cnts) == 0:\n",
    "        return\n",
    "    else:\n",
    "        # based on contour area, get the maximum contour which is the hand\n",
    "        segmented = max(cnts, key=cv2.contourArea)\n",
    "        return (thresholded, segmented)"
   ]
  },
  {
   "cell_type": "markdown",
   "id": "a1238446-2a85-4fcf-97ba-f5f3725e84c2",
   "metadata": {},
   "source": [
    "## Capturing the Data"
   ]
  },
  {
   "cell_type": "code",
   "execution_count": 30,
   "id": "af2ada9c-1243-4351-9c6d-0f66d04cb48e",
   "metadata": {},
   "outputs": [],
   "source": [
    "# initialize weight for running average\n",
    "aWeight = 0.5\n",
    "\n",
    "# region of interest (ROI) coordinates\n",
    "top, right, bottom, left = 10, 350, 225, 590\n",
    "\n",
    "# initialize num of frames\n",
    "num_frames = 0"
   ]
  },
  {
   "cell_type": "markdown",
   "id": "d595f9a0-ffbe-4266-8393-cb45407bdfca",
   "metadata": {},
   "source": [
    "## Gestures List"
   ]
  },
  {
   "cell_type": "code",
   "execution_count": 60,
   "id": "604c3a83-a470-4559-88b4-d46ef8621e72",
   "metadata": {},
   "outputs": [],
   "source": [
    "start_recording = False\n",
    "gestures = ['fist', 'palm', 'swing']\n",
    "data_dir = 'data/train'\n",
    "current = 0\n",
    "no_of_images = 100\n",
    "start_image_num = 10"
   ]
  },
  {
   "cell_type": "markdown",
   "id": "c0d3e4c3-2bf8-4707-be27-b54945f3c122",
   "metadata": {},
   "source": [
    "### Generating Directories"
   ]
  },
  {
   "cell_type": "code",
   "execution_count": 32,
   "id": "3ca4c544-c8e4-4b18-9032-4d40e9bb1fe1",
   "metadata": {},
   "outputs": [],
   "source": [
    "if not os.path.isdir(data_dir):\n",
    "    os.mkdir(data_dir)\n",
    "if not os.path.isdir(data_dir+ '/' + gestures[current]):\n",
    "    os.mkdir(data_dir+ '/' + gestures[current])"
   ]
  },
  {
   "cell_type": "code",
   "execution_count": 51,
   "id": "08a97840-4e6f-48da-b843-afa2bd95bda3",
   "metadata": {},
   "outputs": [],
   "source": [
    "end_image_num = start_image_num + no_of_images\n",
    "image_num = start_image_num\n",
    "\n",
    "# get the reference to the webcam\n",
    "camera = cv2.VideoCapture(0)"
   ]
  },
  {
   "cell_type": "code",
   "execution_count": 52,
   "id": "a40aef7f-d2a1-44f8-9260-5cdae5a78c7c",
   "metadata": {},
   "outputs": [],
   "source": [
    "# check if camera is open\n",
    "if not camera.isOpened():\n",
    "    print(\"Cannot open camera\")\n",
    "    print(camera)"
   ]
  },
  {
   "cell_type": "code",
   "execution_count": 56,
   "id": "c60067aa-9789-4564-91d9-2295ffdef2be",
   "metadata": {},
   "outputs": [
    {
     "data": {
      "text/plain": [
       "\"\\ncap = cv2.VideoCapture(0)\\nwhile True:\\n\\n    ret, frame = cap.read()\\n    cv2.imshow('frame',frame)\\n    if cv2.waitKey(1) & 0xFF == ord('q'):\\n        break\\n\\ncap.release()\\ncv2.destroyAllWindows()\\n\""
      ]
     },
     "execution_count": 56,
     "metadata": {},
     "output_type": "execute_result"
    }
   ],
   "source": [
    "# debugging\n",
    "\"\"\"\n",
    "cap = cv2.VideoCapture(0)\n",
    "while True:\n",
    "\n",
    "    ret, frame = cap.read()\n",
    "    cv2.imshow('frame',frame)\n",
    "    if cv2.waitKey(1) & 0xFF == ord('q'):\n",
    "        break\n",
    "\n",
    "cap.release()\n",
    "cv2.destroyAllWindows()\n",
    "\"\"\""
   ]
  },
  {
   "cell_type": "code",
   "execution_count": 53,
   "id": "eb720741-aa86-476b-95aa-1dd5a7f130bb",
   "metadata": {},
   "outputs": [],
   "source": [
    "# keep looping, until interrupted\n",
    "while True:\n",
    "    # get the current frame\n",
    "    grabbed, frame = camera.read()\n",
    "    if grabbed == True:\n",
    "\n",
    "        # resize the frame\n",
    "        frame = imutils.resize(frame, width=700)\n",
    "\n",
    "        # flip the frame so that it is not the mirror view\n",
    "        frame = cv2.flip(frame, 1)\n",
    "\n",
    "        # clone the frame\n",
    "        clone = frame.copy()\n",
    "\n",
    "        # get the ROI\n",
    "        roi = frame[top:bottom, right:left]\n",
    "\n",
    "        # convert the roi to grayscale and blur it\n",
    "        gray = cv2.cvtColor(roi, cv2.COLOR_BGR2GRAY)\n",
    "        gray = cv2.GaussianBlur(gray, (7, 7), 0)\n",
    "\n",
    "        # to get the background, keep looking till a threshold is reached\n",
    "        # so that our running average model gets calibrated\n",
    "        if num_frames < 30:\n",
    "            run_avg(gray, aWeight)\n",
    "            # print(num_frames, end =' frame.')\n",
    "        else:\n",
    "            # segment the hand region\n",
    "            hand = segment(gray)\n",
    "\n",
    "            # check whether hand region is segmented\n",
    "            if hand is not None:\n",
    "                # if yes, unpack the thresholded image and\n",
    "                # segmented region\n",
    "                (thresholded, segmented) = hand\n",
    "\n",
    "                # draw the segmented region and display the frame\n",
    "                cv2.drawContours(\n",
    "                    clone, [segmented + (right, top)], -1, (0, 0, 255))\n",
    "                if start_recording:\n",
    "\n",
    "                    # Mention the directory in which you wanna store the images \n",
    "                    # followed by the image name\n",
    "                    img_save = data_dir + \"/\" + gestures[current] + \"/\" + gestures[current] + \"_\"\n",
    "                    cv2.imwrite(img_save + str(image_num) + '.png', thresholded)\n",
    "                    image_num += 1\n",
    "                cv2.imshow(\"Thesholded\", thresholded)\n",
    "\n",
    "        # draw the segmented hand\n",
    "        cv2.rectangle(clone, (left, top), (right, bottom), (0, 255, 0), 2)\n",
    "\n",
    "        # increment the number of frames\n",
    "        num_frames += 1\n",
    "\n",
    "        # display the frame with segmented hand\n",
    "        cv2.imshow(\"Video Feed\", clone)\n",
    "\n",
    "        # observe the keypress by the user\n",
    "        keypress = cv2.waitKey(1) & 0xFF\n",
    "\n",
    "        # if the user pressed \"q\", then stop looping\n",
    "        if keypress == ord(\"q\") or image_num > end_image_num:\n",
    "            break\n",
    "\n",
    "        if keypress == ord(\"s\"):\n",
    "            start_recording = True\n",
    "    else:\n",
    "        print(\"Error, Please check your camera\")\n",
    "        print(camera)\n",
    "        break\n",
    "camera.release()\n",
    "cv2.destroyAllWindows()"
   ]
  },
  {
   "cell_type": "markdown",
   "id": "f9dff5a6-b587-41b4-8607-a096cd03663a",
   "metadata": {},
   "source": [
    "## Resizing the Generated Images"
   ]
  },
  {
   "cell_type": "code",
   "execution_count": 57,
   "id": "98a97251-9244-4272-99e6-4302c1ef714f",
   "metadata": {},
   "outputs": [],
   "source": [
    "# importing necessary libraries\n",
    "from PIL import Image"
   ]
  },
  {
   "cell_type": "code",
   "execution_count": 59,
   "id": "43b85fe0-cdbf-4132-8299-ddd470b83d1d",
   "metadata": {},
   "outputs": [],
   "source": [
    "def resizeImage(imageName):\n",
    "    basewidth = 100\n",
    "    img = Image.open(imageName)\n",
    "    wpercent = (basewidth/float(img.size[0]))\n",
    "    hsize = int((float(img.size[1])*float(wpercent)))\n",
    "    img = img.resize((basewidth,hsize), Image.ANTIALIAS)\n",
    "    img.save(imageName)\n",
    "\n",
    "for i in range(start_image_num, end_image_num + 1):\n",
    "    # Mention the directory in which you want to\n",
    "    # resize the images followed by the image name\n",
    "    img_save = data_dir + \"/\" + gestures[current] + \"/\" + gestures[current] + \"_\"\n",
    "    resizeImage(img_save + str(i) + '.png')"
   ]
  }
 ],
 "metadata": {
  "kernelspec": {
   "display_name": "Python [conda env:shiv]",
   "language": "python",
   "name": "conda-env-shiv-py"
  },
  "language_info": {
   "codemirror_mode": {
    "name": "ipython",
    "version": 3
   },
   "file_extension": ".py",
   "mimetype": "text/x-python",
   "name": "python",
   "nbconvert_exporter": "python",
   "pygments_lexer": "ipython3",
   "version": "3.7.12"
  }
 },
 "nbformat": 4,
 "nbformat_minor": 5
}
